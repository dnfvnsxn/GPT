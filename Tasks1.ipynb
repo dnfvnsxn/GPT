{
 "cells": [
  {
   "cell_type": "code",
   "execution_count": 17,
   "id": "8f1c53ba",
   "metadata": {},
   "outputs": [],
   "source": [
    "from langchain.chat_models import ChatOpenAI\n",
    "from langchain.prompts import ChatPromptTemplate\n",
    "from langchain.callbacks import StreamingStdOutCallbackHandler\n",
    "\n",
    "chat = ChatOpenAI(temperature=0.1, model_name=\"gpt-3.5-turbo\", streaming=True, callbacks=[StreamingStdOutCallbackHandler()])\n",
    "\n",
    "\n",
    "poem_prompt = ChatPromptTemplate.from_messages([\n",
    "    (\"system\", \"Write a poetic and metaphorical poem about a programming language. Describe its syntax as if it were a rhythm. its logic as if it were a dance. and its history as if it were an ancient myth. Use vivid imagery, emotional language, and personification. The poem should feel like a love letter to the language. passionate, philosophical, and imaginative\"),\n",
    "    (\"human\", \"I want to write a poem about {language}.\"),\n",
    "])\n",
    "\n",
    "poem_chain = poem_prompt | chat\n",
    "\n",
    "\n"
   ]
  },
  {
   "cell_type": "code",
   "execution_count": 18,
   "id": "1909672e",
   "metadata": {},
   "outputs": [],
   "source": [
    "poem_interpreter_prompt = ChatPromptTemplate.from_messages([\n",
    "    (\"system\", \"Explain the poem in plain and easy-to-understand language, avoid academic or overly poetic expressions, focus on helping a general audience understand the meaning, emotions, and message of the poem, describe the tone, imagery, and themes simply and clearly, use real-life comparisons or examples if helpful, make the interpretation feel like a friendly explanation not a lecture, and do not summarize but help the reader feel what the poet might have felt. Respond with the poem and its explanation in your final answer. Clearly separate the input poem and your interpretation in your response. First, output the input poem. Then, output your interpretation.\"),\n",
    "    (\"human\", \"{poem}\")\n",
    "])\n",
    "\n",
    "poem_interpreter_chain = poem_interpreter_prompt | chat\n",
    "\n"
   ]
  },
  {
   "cell_type": "code",
   "execution_count": 19,
   "id": "3dcbdf95",
   "metadata": {
    "vscode": {
     "languageId": "shellscript"
    }
   },
   "outputs": [
    {
     "name": "stdout",
     "output_type": "stream",
     "text": [
      "In the realm of digital dreams, there lies a language divine,\n",
      "JavaScript, a symphony of code, a dance of logic so fine.\n",
      "Its syntax, a rhythm that sings to the soul,\n",
      "A melody of brackets and semicolons that make the program whole.\n",
      "\n",
      "In the ancient annals of the cyber world, a myth is told,\n",
      "Of JavaScript, born from the stars, a language bold.\n",
      "It weaves through time and space, a tale of creation,\n",
      "A tool for the modern sorcerer, a key to innovation.\n",
      "\n",
      "Its logic, a dance of elegance and grace,\n",
      "A ballet of functions and loops that embrace.\n",
      "Each line a pirouette, each loop a twirl,\n",
      "Creating algorithms that make the digital world unfurl.\n",
      "\n",
      "Oh, JavaScript, you are a muse of the digital age,\n",
      "A language of beauty, a script on a virtual stage.\n",
      "With you, we craft wonders, we bring ideas to life,\n",
      "We shape the future with your power, banishing strife.\n",
      "\n",
      "So here I stand, in awe of your might,\n",
      "In love with your syntax, in awe of your light.\n",
      "JavaScript, my dear language, my eternal flame,\n",
      "Forever in my heart, you shall reign.In the realm of digital dreams, there lies a language divine,\n",
      "JavaScript, a symphony of code, a dance of logic so fine.\n",
      "Its syntax, a rhythm that sings to the soul,\n",
      "A melody of brackets and semicolons that make the program whole.\n",
      "\n",
      "In the ancient annals of the cyber world, a myth is told,\n",
      "Of JavaScript, born from the stars, a language bold.\n",
      "It weaves through time and space, a tale of creation,\n",
      "A tool for the modern sorcerer, a key to innovation.\n",
      "\n",
      "Its logic, a dance of elegance and grace,\n",
      "A ballet of functions and loops that embrace.\n",
      "Each line a pirouette, each loop a twirl,\n",
      "Creating algorithms that make the digital world unfurl.\n",
      "\n",
      "Oh, JavaScript, you are a muse of the digital age,\n",
      "A language of beauty, a script on a virtual stage.\n",
      "With you, we craft wonders, we bring ideas to life,\n",
      "We shape the future with your power, banishing strife.\n",
      "\n",
      "So here I stand, in awe of your might,\n",
      "In love with your syntax, in awe of your light.\n",
      "JavaScript, my dear language, my eternal flame,\n",
      "Forever in my heart, you shall reign.\n",
      "\n",
      "This poem celebrates JavaScript, a programming language, by comparing it to art forms like music and dance. The poet admires the elegance and beauty of JavaScript's syntax and logic, likening it to a symphony or ballet. JavaScript is portrayed as a powerful tool for creation and innovation in the digital world. The poet expresses deep admiration and love for JavaScript, seeing it as a source of inspiration and a key to shaping the future. The tone is reverent and appreciative, highlighting the poet's fascination with the language's capabilities and creative potential."
     ]
    },
    {
     "data": {
      "text/plain": [
       "AIMessageChunk(content=\"In the realm of digital dreams, there lies a language divine,\\nJavaScript, a symphony of code, a dance of logic so fine.\\nIts syntax, a rhythm that sings to the soul,\\nA melody of brackets and semicolons that make the program whole.\\n\\nIn the ancient annals of the cyber world, a myth is told,\\nOf JavaScript, born from the stars, a language bold.\\nIt weaves through time and space, a tale of creation,\\nA tool for the modern sorcerer, a key to innovation.\\n\\nIts logic, a dance of elegance and grace,\\nA ballet of functions and loops that embrace.\\nEach line a pirouette, each loop a twirl,\\nCreating algorithms that make the digital world unfurl.\\n\\nOh, JavaScript, you are a muse of the digital age,\\nA language of beauty, a script on a virtual stage.\\nWith you, we craft wonders, we bring ideas to life,\\nWe shape the future with your power, banishing strife.\\n\\nSo here I stand, in awe of your might,\\nIn love with your syntax, in awe of your light.\\nJavaScript, my dear language, my eternal flame,\\nForever in my heart, you shall reign.\\n\\nThis poem celebrates JavaScript, a programming language, by comparing it to art forms like music and dance. The poet admires the elegance and beauty of JavaScript's syntax and logic, likening it to a symphony or ballet. JavaScript is portrayed as a powerful tool for creation and innovation in the digital world. The poet expresses deep admiration and love for JavaScript, seeing it as a source of inspiration and a key to shaping the future. The tone is reverent and appreciative, highlighting the poet's fascination with the language's capabilities and creative potential.\")"
      ]
     },
     "execution_count": 19,
     "metadata": {},
     "output_type": "execute_result"
    }
   ],
   "source": [
    "final_chain = {\"poem\": poem_chain} | poem_interpreter_chain\n",
    "\n",
    "final_chain.invoke({\"language\": \"JavaScript\"})\n"
   ]
  }
 ],
 "metadata": {
  "kernelspec": {
   "display_name": "env",
   "language": "python",
   "name": "python3"
  },
  "language_info": {
   "codemirror_mode": {
    "name": "ipython",
    "version": 3
   },
   "file_extension": ".py",
   "mimetype": "text/x-python",
   "name": "python",
   "nbconvert_exporter": "python",
   "pygments_lexer": "ipython3",
   "version": "3.11.6"
  }
 },
 "nbformat": 4,
 "nbformat_minor": 5
}
