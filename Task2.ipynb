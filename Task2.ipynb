{
 "cells": [
  {
   "cell_type": "code",
   "execution_count": 4,
   "id": "8f1c53ba",
   "metadata": {},
   "outputs": [
    {
     "name": "stdout",
     "output_type": "stream",
     "text": [
      "제가 알고 있는 내용은 다음과 같습니다:\n",
      "        감독: 제임스 카메론\n",
      "        출연: 샘 워싱턴, 조 샐다나, 시고니 위버, 조엘 데이비드 무어\n",
      "        제작 예산: 약 2억 37백만 달러\n",
      "        전 세계 흥행 수익: 약 27억 80백만 달러\n",
      "        장르: SF, 액션, 모험\n",
      "        시놉시스: 인류의 탐욕으로 파괴된 지구에서 파란 행성 판도라의 자연과 나비족 나비의 삶을 통해 환경 보호와 평화를 다룬 영화."
     ]
    },
    {
     "data": {
      "text/plain": [
       "AIMessageChunk(content='제가 알고 있는 내용은 다음과 같습니다:\\n        감독: 제임스 카메론\\n        출연: 샘 워싱턴, 조 샐다나, 시고니 위버, 조엘 데이비드 무어\\n        제작 예산: 약 2억 37백만 달러\\n        전 세계 흥행 수익: 약 27억 80백만 달러\\n        장르: SF, 액션, 모험\\n        시놉시스: 인류의 탐욕으로 파괴된 지구에서 파란 행성 판도라의 자연과 나비족 나비의 삶을 통해 환경 보호와 평화를 다룬 영화.')"
      ]
     },
     "execution_count": 4,
     "metadata": {},
     "output_type": "execute_result"
    }
   ],
   "source": [
    "from langchain.chat_models import ChatOpenAI\n",
    "from langchain.prompts.few_shot import FewShotChatMessagePromptTemplate\n",
    "from langchain.callbacks import StreamingStdOutCallbackHandler\n",
    "from langchain.prompts import ChatMessagePromptTemplate, ChatPromptTemplate\n",
    "\n",
    "chat = ChatOpenAI(\n",
    "    temperature=0.1,\n",
    "    streaming=True,\n",
    "    callbacks=[\n",
    "        StreamingStdOutCallbackHandler(),\n",
    "    ],\n",
    ")\n",
    "\n",
    "\n",
    "examples = [\n",
    "    {\n",
    "        \"movie\": \"Inception\",\n",
    "        \"answer\": \"\"\"\n",
    "        제가 알고 있는 내용은 다음과 같습니다:\n",
    "        감독: 크리스토퍼 놀란\n",
    "        출연: 레오나르도 디카프리오, 조셉 고든 레빗, 엘런 페이지\n",
    "        제작 예산: 약 1억 6천만 달러\n",
    "        전 세계 흥행 수익: 약 8억 3천만 달러\n",
    "        장르: SF, 액션, 스릴러\n",
    "        시놉시스: 꿈속에 들어가 비밀을 훔치는 산업 스파이 '코브'가, 이번엔 생각을 심는 임무를 맡게 된다. 현실과 꿈의 경계가 흐려지는 미션이 시작된다.\n",
    "        \"\"\"\n",
    "    },\n",
    "    {\n",
    "        \"movie\": \"Parasite\",\n",
    "        \"answer\": \"\"\"\n",
    "        제가 알고 있는 내용은 다음과 같습니다:\n",
    "        감독: 봉준호\n",
    "        출연: 송강호, 이선균, 조여정, 최우식, 박소담\n",
    "        제작 예산: 약 114억 원\n",
    "        전 세계 흥행 수익: 약 2억 6천만 달러\n",
    "        장르: 드라마, 스릴러, 블랙 코미디\n",
    "        시놉시스: 반지하에 사는 기택 가족이 부유한 박 사장네에 하나씩 스며들며 벌어지는 계급 간의 충돌과 비극을 그린다.\n",
    "        \"\"\"\n",
    "    },\n",
    "    {\n",
    "        \"movie\": \"Titanic\",\n",
    "        \"answer\": \"\"\"\n",
    "        제가 알고 있는 내용은 다음과 같습니다:\n",
    "        감독: 제임스 카메론\n",
    "        출연: 레오나르도 디카프리오, 케이트 윈슬렛\n",
    "        제작 예산: 약 2억 달러\n",
    "        전 세계 흥행 수익: 약 22억 달러\n",
    "        장르: 로맨스, 드라마\n",
    "        시놉시스: 1912년, 세계 최대 여객선 타이타닉호에서 만난 잭과 로즈의 운명적인 사랑과 거대한 비극을 담은 대서사시.\n",
    "        \"\"\"\n",
    "    },\n",
    "    {\n",
    "        \"movie\": \"The Matrix\",\n",
    "        \"answer\": \"\"\"\n",
    "        제가 알고 있는 내용은 다음과 같습니다:\n",
    "        감독: 워쇼스키 자매\n",
    "        출연: 키아누 리브스, 로렌스 피시번, 캐리 앤 모스\n",
    "        제작 예산: 약 6,300만 달러\n",
    "        전 세계 흥행 수익: 약 4억 6천만 달러\n",
    "        장르: SF, 액션\n",
    "        시놉시스: 현실이라고 믿었던 세계가 거대한 컴퓨터 시뮬레이션이라는 사실을 알게 된 네오가 인류 해방을 위해 싸우게 되는 이야기.\n",
    "        \"\"\"\n",
    "    },\n",
    "    {\n",
    "        \"movie\": \"Interstellar\",\n",
    "        \"answer\": \"\"\"\n",
    "        제가 알고 있는 내용은 다음과 같습니다:\n",
    "        감독: 크리스토퍼 놀란\n",
    "        출연: 매튜 맥커너히, 앤 해서웨이, 제시카 차스테인\n",
    "        제작 예산: 약 1억 6천 5백만 달러\n",
    "        전 세계 흥행 수익: 약 7억 7천만 달러\n",
    "        장르: SF, 드라마, 모험\n",
    "        시놉시스: 인류 생존을 위한 새로운 행성을 찾기 위해 블랙홀 너머로 떠나는 한 우주 탐사대의 시간과 사랑, 희생의 여정을 그린다.\n",
    "        \"\"\"\n",
    "    },\n",
    "]\n",
    "\n",
    "\n",
    "example_prompt = ChatPromptTemplate.from_messages(\n",
    "    [\n",
    "        (\"human\", \"이 {movie}에 대해 무엇을 알고있습니까?\"),\n",
    "        (\"ai\", \"{answer}\"),\n",
    "    ]\n",
    ")\n",
    "\n",
    "example_prompt = FewShotChatMessagePromptTemplate(\n",
    "    example_prompt=example_prompt,\n",
    "    examples=examples,\n",
    ")\n",
    "\n",
    "final_prompt = ChatPromptTemplate.from_messages(\n",
    "    [\n",
    "        (\"system\", \"당신은 영화 평론가 입니다. 영화에 대해 잘 알고 있습니다. 당신의 답변은 간결하고 정확해야 합니다.\"),\n",
    "        example_prompt,\n",
    "        (\"human\", \"이 {movie}에 대해 무엇을 알고있습니까?\"),\n",
    "    ]\n",
    ")\n",
    "\n",
    "chain = final_prompt | chat\n",
    "\n",
    "chain.invoke({\"movie\": \"Avatar\"})"
   ]
  },
  {
   "cell_type": "code",
   "execution_count": 5,
   "id": "af07fc57",
   "metadata": {},
   "outputs": [
    {
     "name": "stdout",
     "output_type": "stream",
     "text": [
      "제가 알고 있는 내용은 다음과 같습니다:\n",
      "        감독: 피트 닥터, 론니 델 카르멘\n",
      "        출연: 에이미 포엘러, 필리스 스미스, 민디 칼링\n",
      "        제작 예산: 약 1억 75백만 달러\n",
      "        전 세계 흥행 수익: 약 8억 5천만 달러\n",
      "        장르: 애니메이션, 코미디, 판타지\n",
      "        시놉시스: 소녀 라일리의 머릿속에서 감정들이 모험을 떠나는 과정을 통해 성장과 감정의 중요성을 다룬 애니메이션 영화입니다."
     ]
    },
    {
     "data": {
      "text/plain": [
       "AIMessageChunk(content='제가 알고 있는 내용은 다음과 같습니다:\\n        감독: 피트 닥터, 론니 델 카르멘\\n        출연: 에이미 포엘러, 필리스 스미스, 민디 칼링\\n        제작 예산: 약 1억 75백만 달러\\n        전 세계 흥행 수익: 약 8억 5천만 달러\\n        장르: 애니메이션, 코미디, 판타지\\n        시놉시스: 소녀 라일리의 머릿속에서 감정들이 모험을 떠나는 과정을 통해 성장과 감정의 중요성을 다룬 애니메이션 영화입니다.')"
      ]
     },
     "execution_count": 5,
     "metadata": {},
     "output_type": "execute_result"
    }
   ],
   "source": [
    "chain.invoke({\"movie\": \"인사이드아웃\"})"
   ]
  }
 ],
 "metadata": {
  "kernelspec": {
   "display_name": "env",
   "language": "python",
   "name": "python3"
  },
  "language_info": {
   "codemirror_mode": {
    "name": "ipython",
    "version": 3
   },
   "file_extension": ".py",
   "mimetype": "text/x-python",
   "name": "python",
   "nbconvert_exporter": "python",
   "pygments_lexer": "ipython3",
   "version": "3.11.6"
  }
 },
 "nbformat": 4,
 "nbformat_minor": 5
}
