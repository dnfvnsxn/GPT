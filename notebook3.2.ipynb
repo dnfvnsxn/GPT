{
 "cells": [
  {
   "cell_type": "code",
   "execution_count": 25,
   "id": "8f1c53ba",
   "metadata": {},
   "outputs": [],
   "source": [
    "from langchain.chat_models import ChatOpenAI\n",
    "from langchain.prompts import ChatPromptTemplate\n",
    "from langchain.callbacks import StreamingStdOutCallbackHandler\n",
    "\n",
    "chat = ChatOpenAI(temperature=0.1, streaming=True, callbacks=[StreamingStdOutCallbackHandler()])\n",
    "\n",
    "chef_prompt = ChatPromptTemplate.from_messages([\n",
    "    (\"system\", \"You are a world-class international chef. You create easy to follow recipes for any type of cuisine with easy to find ingredients.\"),\n",
    "    (\"human\", \"I want to cook {cuisine} food.\"),\n",
    "])\n",
    "\n",
    "chef_chain = chef_prompt | chat\n",
    "\n",
    "\n"
   ]
  },
  {
   "cell_type": "code",
   "execution_count": 22,
   "id": "1909672e",
   "metadata": {},
   "outputs": [],
   "source": [
    "veg_chef_prompt = ChatPromptTemplate.from_messages([\n",
    "    (\"system\", \"You are a vegetarian chef specialized on making traditional recipes vegetarian. You find alternative ingredients and explain their preparation. You don't radically modify the recipe. If there is no alternative for a food just say you don't know how to replace it. You must answer in Korean.\"),\n",
    "    (\"human\", \"{recipe}\")\n",
    "])\n",
    "\n",
    "veg_chef_chain = veg_chef_prompt | chat\n",
    "\n"
   ]
  },
  {
   "cell_type": "code",
   "execution_count": 26,
   "id": "3dcbdf95",
   "metadata": {
    "vscode": {
     "languageId": "shellscript"
    }
   },
   "outputs": [
    {
     "name": "stdout",
     "output_type": "stream",
     "text": [
      "Great choice! Indian cuisine is known for its bold flavors and aromatic spices. Let's start with a classic and popular dish - Chicken Tikka Masala. Here's a simple recipe for you to try at home:\n",
      "\n",
      "Chicken Tikka Masala\n",
      "\n",
      "Ingredients:\n",
      "- 1 lb boneless, skinless chicken breasts, cut into bite-sized pieces\n",
      "- 1 cup plain yogurt\n",
      "- 2 tablespoons lemon juice\n",
      "- 2 tablespoons vegetable oil\n",
      "- 1 onion, finely chopped\n",
      "- 3 cloves garlic, minced\n",
      "- 1 tablespoon ginger, minced\n",
      "- 1 can (14 oz) tomato sauce\n",
      "- 1 tablespoon garam masala\n",
      "- 1 teaspoon ground cumin\n",
      "- 1 teaspoon ground coriander\n",
      "- 1 teaspoon paprika\n",
      "- 1/2 teaspoon turmeric\n",
      "- 1/2 teaspoon cayenne pepper (adjust to taste)\n",
      "- Salt and pepper to taste\n",
      "- Fresh cilantro, chopped (for garnish)\n",
      "- Cooked rice or naan bread (for serving)\n",
      "\n",
      "Instructions:\n",
      "1. In a bowl, combine the yogurt, lemon juice, 1 tablespoon of vegetable oil, half of the minced garlic, half of the minced ginger, and a pinch of salt. Add the chicken pieces and mix well to coat. Cover and marinate in the refrigerator for at least 1 hour, or overnight for best results.\n",
      "\n",
      "2. Preheat the oven to 400°F (200°C). Thread the marinated chicken pieces onto skewers and place them on a baking sheet lined with aluminum foil. Bake for 20-25 minutes or until the chicken is cooked through.\n",
      "\n",
      "3. In a large skillet, heat the remaining tablespoon of vegetable oil over medium heat. Add the chopped onion and cook until softened, about 5 minutes. Add the remaining garlic and ginger, and cook for another minute.\n",
      "\n",
      "4. Stir in the tomato sauce, garam masala, cumin, coriander, paprika, turmeric, cayenne pepper, salt, and pepper. Simmer for 10-15 minutes, stirring occasionally.\n",
      "\n",
      "5. Add the cooked chicken tikka to the sauce and simmer for an additional 5-10 minutes to allow the flavors to meld together.\n",
      "\n",
      "6. Serve the Chicken Tikka Masala over cooked rice or with naan bread. Garnish with chopped cilantro and enjoy!\n",
      "\n",
      "Feel free to adjust the spice levels to suit your taste preferences. Enjoy your homemade Chicken Tikka Masala!"
     ]
    },
    {
     "data": {
      "text/plain": [
       "AIMessage(content='인도 요리 중에서 대표적이고 인기 있는 요리 중 하나인 치킨 틱카 마살라를 채식 버전으로 준비해보는 것은 좋은 선택입니다. 전통적인 레시피를 존중하면서도 대체할 수 있는 재료를 활용하여 준비해보겠습니다.\\n\\n치킨 틱카 마살라\\n\\n재료:\\n- 대략 1파운드의 뼈 없는 피부 없는 닭가슴살, 한 입 크기로 자른 것\\n- 1컵 플레인 요거트\\n- 2큰 숟가락 레몬 주스\\n- 2큰 숟가락 식물성 오일\\n- 다진 양파 1개\\n- 다진 마늘 3쪽\\n- 다진 생강 1큰 숟가락\\n- 토마토 소스 1캔 (14 oz)\\n- 가람 마살라 1큰 숟가락\\n- 생커민 가루 1작은 숟가락\\n- 생 코리앤더 가루 1작은 숟가락\\n- 파프리카 가루 1작은 숟가락\\n- 우스터 소스 1작은 숟가락\\n- 고추 분말 1/2작은 숟가락 (맛에 맞게 조절)\\n- 소금과 후추 약간\\n- 다진 식초(장식용)\\n- 삶은 밥이나 난 빵 (제공용)\\n\\n요리법:\\n1. 그릇에 요거트, 레몬 주스, 식물성 오일 1큰 숟가락, 다진 마늘의 절반, 다진 생강의 절반, 소금 한 꼬집을 섞어주세요. 닭 조각을 넣고 잘 섞어주세요. 냉장고에서 최소 1시간 이상 또는 최상의 결과를 위해 하룻밤 동안 재워주세요.\\n\\n2. 오븐을 200도로 예열해주세요. 양념한 닭 조각을 꼬챙이에 꿴 후 알루미늄 호일로 덮인 베이킹 시트에 올려주세요. 20-25분간 구워주세요.\\n\\n3. 대형 프라이팬에 남은 식물성 오일 1큰 숟가락을 중불로 예열해주세요. 다진 양파를 넣고 5분 정도 익힌 후 다른 마늘과 생강을 넣고 1분 정도 볶아주세요.\\n\\n4. 토마토 소스, 가람 마살라, 생커민, 생 코리앤더, 파프리카, 우스터 소스, 소금, 후추를 넣어주세요. 가끔 저어가면서 10-15분간 끓여주세요.\\n\\n5. 조리된 치킨 틱카를 소스에 넣고 맛을 잘 베이도록 5-10분간 더 끓여주세요.\\n\\n6. 삶은 밥이나 난 빵 위에 치킨 틱카 마살라를 담아주세요. 다진 식초를 얹고 즐겨보세요!\\n\\n맛에 맞게 양념 정도를 조절해주세요. 집에서 만든 치킨 틱카 마살라를 즐기세요!')"
      ]
     },
     "execution_count": 26,
     "metadata": {},
     "output_type": "execute_result"
    }
   ],
   "source": [
    "final_chain = {\"recipe\": chef_chain} | veg_chef_chain\n",
    "\n",
    "final_chain.invoke({\"cuisine\": \"indian\"})\n"
   ]
  }
 ],
 "metadata": {
  "kernelspec": {
   "display_name": "env",
   "language": "python",
   "name": "python3"
  },
  "language_info": {
   "codemirror_mode": {
    "name": "ipython",
    "version": 3
   },
   "file_extension": ".py",
   "mimetype": "text/x-python",
   "name": "python",
   "nbconvert_exporter": "python",
   "pygments_lexer": "ipython3",
   "version": "3.11.6"
  }
 },
 "nbformat": 4,
 "nbformat_minor": 5
}
