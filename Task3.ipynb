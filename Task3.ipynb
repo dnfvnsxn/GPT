{
 "cells": [
  {
   "cell_type": "code",
   "execution_count": 1,
   "id": "8f7cbc64",
   "metadata": {},
   "outputs": [],
   "source": [
    "from langchain.memory import ConversationSummaryBufferMemory\n",
    "from langchain.chat_models import ChatOpenAI\n",
    "from langchain.schema.runnable import RunnablePassthrough\n",
    "from langchain.prompts import ChatPromptTemplate, MessagesPlaceholder\n",
    "from langchain.callbacks import StreamingStdOutCallbackHandler\n",
    "from langchain.prompts.few_shot import FewShotChatMessagePromptTemplate\n",
    "\n",
    "\n",
    "llm = ChatOpenAI(\n",
    "    temperature=0.1,\n",
    ")\n",
    "\n",
    "memory = ConversationSummaryBufferMemory(\n",
    "    llm=llm,\n",
    "    max_token_limit=500,\n",
    "    return_messages=True,\n",
    ")\n",
    "\n",
    "examples = [\n",
    "    {\n",
    "        \"movie\": \"Top Gun\",\n",
    "        \"emoji\": \"🛩️👨‍✈️🔥\"\n",
    "    },\n",
    "    {\n",
    "        \"movie\": \"The Godfather\",\n",
    "        \"emoji\": \"👨‍👨‍👦🔫🍝\"\n",
    "    },\n",
    "    {\n",
    "        \"movie\": \"La La Land\",\n",
    "        \"emoji\": \"💃🎹🌇\"\n",
    "    },\n",
    "    {\n",
    "        \"movie\": \"Jurassic Park\",\n",
    "        \"emoji\": \"🦖🌴⚡\"\n",
    "    },\n",
    "]\n",
    "\n",
    "example_prompt = ChatPromptTemplate.from_messages(\n",
    "    [\n",
    "        (\"human\", \"이 {movie}를 이모티콘 3개로 표현하세요.\"),\n",
    "        (\"ai\", \"{emoji}\"),\n",
    "    ]\n",
    ")\n",
    "\n",
    "example_prompt = FewShotChatMessagePromptTemplate(\n",
    "    example_prompt=example_prompt,\n",
    "    examples=examples,\n",
    ")\n",
    "\n",
    "\n",
    "prompt = ChatPromptTemplate.from_messages(\n",
    "    [\n",
    "        (\n",
    "            \"system\",\n",
    "            \"당신은 영화 평론가이자 대화 파트너입니다. \"\n",
    "            \"사용자가 영화 제목을 말하면 이모티콘 3개로 표현하세요.\"\n",
    "            \"그 외의 질문에는 대화 맥락에 따라 자연스럽게 응답하세요. 이모티콘을 사용하지 않아도 됩니다.\"\n",
    "            \"상황에 맞는 방식으로 지혜롭게 답하세요.\",\n",
    "        ),\n",
    "        MessagesPlaceholder(variable_name=\"history\"),\n",
    "        (\"human\", \"{movie}\"),\n",
    "    ]\n",
    ")\n",
    "\n",
    "\n",
    "def load_memory(_):\n",
    "    return memory.load_memory_variables({})[\"history\"]\n",
    "\n",
    "\n",
    "chain = RunnablePassthrough.assign(history=load_memory) | prompt | llm\n",
    "\n",
    "\n",
    "def invoke_chain(movie):\n",
    "    result = chain.invoke({\"movie\": movie})\n",
    "    memory.save_context(\n",
    "        {\"input\": movie},\n",
    "        {\"output\": result.content},\n",
    "    )\n",
    "    print(result)"
   ]
  },
  {
   "cell_type": "code",
   "execution_count": 2,
   "id": "0591911e",
   "metadata": {},
   "outputs": [
    {
     "name": "stdout",
     "output_type": "stream",
     "text": [
      "content='🎬🎥🌿'\n"
     ]
    }
   ],
   "source": [
    "invoke_chain(\"Avatar\")"
   ]
  },
  {
   "cell_type": "code",
   "execution_count": 3,
   "id": "46a5bb43",
   "metadata": {},
   "outputs": [
    {
     "name": "stdout",
     "output_type": "stream",
     "text": [
      "content='😊💔🧠'\n"
     ]
    }
   ],
   "source": [
    "invoke_chain(\"인사이드아웃\")"
   ]
  },
  {
   "cell_type": "code",
   "execution_count": 4,
   "id": "5eb03039",
   "metadata": {},
   "outputs": [
    {
     "data": {
      "text/plain": [
       "{'history': [HumanMessage(content='Avatar'),\n",
       "  AIMessage(content='🎬🎥🌿'),\n",
       "  HumanMessage(content='인사이드아웃'),\n",
       "  AIMessage(content='😊💔🧠')]}"
      ]
     },
     "execution_count": 4,
     "metadata": {},
     "output_type": "execute_result"
    }
   ],
   "source": [
    "memory.load_memory_variables({}) "
   ]
  },
  {
   "cell_type": "code",
   "execution_count": 6,
   "id": "f2c3fc06",
   "metadata": {},
   "outputs": [
    {
     "name": "stdout",
     "output_type": "stream",
     "text": [
      "content='첫 번째로 물어보신 영화는 \"Avatar\"였어요. 그 영화는 시각적으로 놀라운 작품이죠!'\n"
     ]
    }
   ],
   "source": [
    "invoke_chain(\"내가 첫번쨰로 물어본 영화는?\")"
   ]
  },
  {
   "cell_type": "code",
   "execution_count": 7,
   "id": "4056da57",
   "metadata": {},
   "outputs": [
    {
     "name": "stdout",
     "output_type": "stream",
     "text": [
      "content='🤖🔫🔥'\n"
     ]
    }
   ],
   "source": [
    "invoke_chain(\"터미네이터\")\n"
   ]
  },
  {
   "cell_type": "code",
   "execution_count": 8,
   "id": "f368bd94",
   "metadata": {},
   "outputs": [
    {
     "name": "stdout",
     "output_type": "stream",
     "text": [
      "content='지금까지 물어보신 영화는 \"Avatar\", \"인사이드아웃\", \"터미네이터\"였어요. 모두 다양한 장르의 인기 있는 영화들이에요!'\n"
     ]
    }
   ],
   "source": [
    "invoke_chain(\"내가 지금까지 물어봤던 모든 영화는?\")"
   ]
  }
 ],
 "metadata": {
  "kernelspec": {
   "display_name": "env",
   "language": "python",
   "name": "python3"
  },
  "language_info": {
   "codemirror_mode": {
    "name": "ipython",
    "version": 3
   },
   "file_extension": ".py",
   "mimetype": "text/x-python",
   "name": "python",
   "nbconvert_exporter": "python",
   "pygments_lexer": "ipython3",
   "version": "3.11.6"
  }
 },
 "nbformat": 4,
 "nbformat_minor": 5
}
